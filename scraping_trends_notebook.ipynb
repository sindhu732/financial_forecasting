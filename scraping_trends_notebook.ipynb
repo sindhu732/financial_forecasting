{
 "cells": [
  {
   "cell_type": "code",
   "execution_count": 1,
   "metadata": {
    "collapsed": true
   },
   "outputs": [],
   "source": [
    "# Data aggregation\n",
    "import google_trends_scraper"
   ]
  },
  {
   "cell_type": "code",
   "execution_count": 2,
   "metadata": {
    "collapsed": true
   },
   "outputs": [],
   "source": [
    "trends = {}"
   ]
  },
  {
   "cell_type": "code",
   "execution_count": 3,
   "metadata": {
    "collapsed": true
   },
   "outputs": [],
   "source": [
    "trends['Tesla'] = ['Tesla', 'Elon Musk', 'Model S', 'Model X', 'Model 3', 'Tesla Roadster', 'Lithium-ion Batteries', 'Battery technology', \n",
    "                     'Solar power', 'Solar Panels', 'Powerwall', 'Electric Cars', 'Electric Power train', 'Charging stations', \n",
    "                     'Electric Sedans', 'Electric SUVs', 'SolarCity']\n",
    "\n",
    "trends['Canadian Solar'] = []\n",
    "\n",
    "trends['ABB'] = []"
   ]
  },
  {
   "cell_type": "code",
   "execution_count": 4,
   "metadata": {},
   "outputs": [
    {
     "name": "stdout",
     "output_type": "stream",
     "text": [
      "2012-05-07 2017-05-05 US 22 Tesla\n",
      "2012-05-07 2017-05-05 US 22 Elon+Musk\n",
      "2012-05-07 2017-05-05 US 22 Model+S\n",
      "2012-05-07 2017-05-05 US 22 Model+X\n",
      "2012-05-07 2017-05-05 US 22 Model+3\n",
      "2012-05-07 2017-05-05 US 22 Tesla+Roadster\n",
      "2012-05-07 2017-05-05 US 22 Lithium-ion+Batteries\n",
      "2012-05-07 2017-05-05 US 22 Battery+technology\n",
      "2012-05-07 2017-05-05 US 22 Solar+power\n",
      "2012-05-07 2017-05-05 US 22 Solar+Panels\n",
      "2012-05-07 2017-05-05 US 22 Powerwall\n",
      "2012-05-07 2017-05-05 US 22 Electric+Cars\n",
      "2012-05-07 2017-05-05 US 22 Electric+Power+train\n",
      "2012-05-07 2017-05-05 US 22 Charging+stations\n",
      "2012-05-07 2017-05-05 US 22 Electric+Sedans\n",
      "2012-05-07 2017-05-05 US 22 Electric+SUVs\n",
      "2012-05-07 2017-05-05 US 22 SolarCity\n"
     ]
    }
   ],
   "source": [
    "# To avoid Google from blocking you, don't run it all at once \n",
    "for company, trend in trends.items(): \n",
    "    for each in trend:\n",
    "        google_trends_scraper.scrape(company, each, '2012-05-07', '2017-05-05')"
   ]
  },
  {
   "cell_type": "code",
   "execution_count": 5,
   "metadata": {},
   "outputs": [
    {
     "name": "stdout",
     "output_type": "stream",
     "text": [
      "2012-05-07 2017-05-05 US 22 Elon+Musk\n"
     ]
    }
   ],
   "source": [
    "google_trends_scraper.scrape('Tesla', 'Elon Musk', '2012-05-07', '2017-05-05')"
   ]
  },
  {
   "cell_type": "code",
   "execution_count": null,
   "metadata": {
    "collapsed": true
   },
   "outputs": [],
   "source": []
  }
 ],
 "metadata": {
  "kernelspec": {
   "display_name": "Python 3",
   "language": "python",
   "name": "python3"
  },
  "language_info": {
   "codemirror_mode": {
    "name": "ipython",
    "version": 3
   },
   "file_extension": ".py",
   "mimetype": "text/x-python",
   "name": "python",
   "nbconvert_exporter": "python",
   "pygments_lexer": "ipython3",
   "version": "3.5.3"
  }
 },
 "nbformat": 4,
 "nbformat_minor": 2
}
